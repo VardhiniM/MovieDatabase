{
 "cells": [
  {
   "cell_type": "markdown",
   "metadata": {},
   "source": [
    "# This project is divided into 3 parts\n",
    "1) Part 1 - Obtain the top movies from OMDB website using APIs  \n",
    "2) Part 2 - Establish connection to a SQL database from Python  \n",
    "3) Part 3 - Uploading data to the database"
   ]
  },
  {
   "cell_type": "markdown",
   "metadata": {},
   "source": [
    "# Part 1"
   ]
  },
  {
   "cell_type": "markdown",
   "metadata": {},
   "source": [
    "#### Go to http://www.omdbapi.com/ and request an API Key from the page."
   ]
  },
  {
   "cell_type": "code",
   "execution_count": 1,
   "metadata": {},
   "outputs": [],
   "source": [
    "# Begin by importing all required packages\n",
    "import requests\n",
    "import json\n",
    "import pandas as pd\n",
    "from sqlalchemy import create_engine"
   ]
  },
  {
   "cell_type": "code",
   "execution_count": 2,
   "metadata": {},
   "outputs": [],
   "source": [
    "# First we need to obtain an api key through the website\n",
    "api_key = \"d09457b3\"\n",
    "\n",
    "# Next we create url containing api key and search term (blade in this example)\n",
    "url = \"http://www.omdbapi.com/?apikey=\" + api_key + \"&s=blade\""
   ]
  },
  {
   "cell_type": "code",
   "execution_count": 3,
   "metadata": {},
   "outputs": [],
   "source": [
    "# Set parameters\n",
    "parameter = {\"plot\" : \"Short\", \"r\" : \"JSON\"}"
   ]
  },
  {
   "cell_type": "code",
   "execution_count": 4,
   "metadata": {},
   "outputs": [],
   "source": [
    "# Request url and print JSON\n",
    "response = requests.get(url, params = parameter)\n",
    "blade_results = json.loads(response.text)\n",
    "blade_results = blade_results[\"Search\"]"
   ]
  },
  {
   "cell_type": "code",
   "execution_count": 5,
   "metadata": {},
   "outputs": [
    {
     "name": "stdout",
     "output_type": "stream",
     "text": [
      "[\n",
      "  {\n",
      "    \"Title\": \"Blade Runner\",\n",
      "    \"Year\": \"1982\",\n",
      "    \"imdbID\": \"tt0083658\",\n",
      "    \"Type\": \"movie\",\n",
      "    \"Poster\": \"https://m.media-amazon.com/images/M/MV5BNzQzMzJhZTEtOWM4NS00MTdhLTg0YjgtMjM4MDRkZjUwZDBlXkEyXkFqcGdeQXVyNjU0OTQ0OTY@._V1_SX300.jpg\"\n",
      "  },\n",
      "  {\n",
      "    \"Title\": \"Blade Runner 2049\",\n",
      "    \"Year\": \"2017\",\n",
      "    \"imdbID\": \"tt1856101\",\n",
      "    \"Type\": \"movie\",\n",
      "    \"Poster\": \"https://m.media-amazon.com/images/M/MV5BNzA1Njg4NzYxOV5BMl5BanBnXkFtZTgwODk5NjU3MzI@._V1_SX300.jpg\"\n",
      "  },\n",
      "  {\n",
      "    \"Title\": \"Blade\",\n",
      "    \"Year\": \"1998\",\n",
      "    \"imdbID\": \"tt0120611\",\n",
      "    \"Type\": \"movie\",\n",
      "    \"Poster\": \"https://m.media-amazon.com/images/M/MV5BOTk2NDNjZWQtMGY0Mi00YTY2LWE5MzctMGRhZmNlYzljYTg5XkEyXkFqcGdeQXVyMTAyNjg4NjE0._V1_SX300.jpg\"\n",
      "  },\n",
      "  {\n",
      "    \"Title\": \"Blade II\",\n",
      "    \"Year\": \"2002\",\n",
      "    \"imdbID\": \"tt0187738\",\n",
      "    \"Type\": \"movie\",\n",
      "    \"Poster\": \"https://m.media-amazon.com/images/M/MV5BOWVjZTIzNDYtNTBlNC00NTJjLTkzOTEtOTE0MjlhYzI2YTcyXkEyXkFqcGdeQXVyNTAyODkwOQ@@._V1_SX300.jpg\"\n",
      "  },\n",
      "  {\n",
      "    \"Title\": \"Blade: Trinity\",\n",
      "    \"Year\": \"2004\",\n",
      "    \"imdbID\": \"tt0359013\",\n",
      "    \"Type\": \"movie\",\n",
      "    \"Poster\": \"https://m.media-amazon.com/images/M/MV5BMjE0Nzg2MzI3MF5BMl5BanBnXkFtZTYwMjExODQ3._V1_SX300.jpg\"\n",
      "  },\n",
      "  {\n",
      "    \"Title\": \"Sling Blade\",\n",
      "    \"Year\": \"1996\",\n",
      "    \"imdbID\": \"tt0117666\",\n",
      "    \"Type\": \"movie\",\n",
      "    \"Poster\": \"https://m.media-amazon.com/images/M/MV5BNGY5NWIxMjAtODBjNC00MmZhLTk1ZTAtNGRhYThlOTNjMTQwXkEyXkFqcGdeQXVyNTc1NTQxODI@._V1_SX300.jpg\"\n",
      "  },\n",
      "  {\n",
      "    \"Title\": \"Dragon Blade\",\n",
      "    \"Year\": \"2015\",\n",
      "    \"imdbID\": \"tt3672840\",\n",
      "    \"Type\": \"movie\",\n",
      "    \"Poster\": \"https://m.media-amazon.com/images/M/MV5BMTk0MjgxOTQ5MF5BMl5BanBnXkFtZTgwODA3NTUwNjE@._V1_SX300.jpg\"\n",
      "  },\n",
      "  {\n",
      "    \"Title\": \"Blade of the Immortal\",\n",
      "    \"Year\": \"2017\",\n",
      "    \"imdbID\": \"tt5084170\",\n",
      "    \"Type\": \"movie\",\n",
      "    \"Poster\": \"https://m.media-amazon.com/images/M/MV5BYzIwYmJlMjktMzJiMy00YmQzLThmNWYtNWY3NGViZjc4MzYwXkEyXkFqcGdeQXVyNDQxNjcxNQ@@._V1_SX300.jpg\"\n",
      "  },\n",
      "  {\n",
      "    \"Title\": \"Shinobi: Heart Under Blade\",\n",
      "    \"Year\": \"2005\",\n",
      "    \"imdbID\": \"tt0475723\",\n",
      "    \"Type\": \"movie\",\n",
      "    \"Poster\": \"https://m.media-amazon.com/images/M/MV5BNjZhMTNmMTItNmU4Mi00YTdkLWFkZWUtOGExNTQ3MGRiYWYyXkEyXkFqcGdeQXVyNzI1NzMxNzM@._V1_SX300.jpg\"\n",
      "  },\n",
      "  {\n",
      "    \"Title\": \"Blade Runner: Black Out 2022\",\n",
      "    \"Year\": \"2017\",\n",
      "    \"imdbID\": \"tt7428594\",\n",
      "    \"Type\": \"movie\",\n",
      "    \"Poster\": \"https://m.media-amazon.com/images/M/MV5BZGNiNmNiMTctMDI4OS00OWYxLWE4ZWEtZjFkZjU4ZmY5YzEyXkEyXkFqcGdeQXVyMzgxODM4NjM@._V1_SX300.jpg\"\n",
      "  }\n",
      "]\n"
     ]
    }
   ],
   "source": [
    "# Pretty-print the JSON\n",
    "pretty_results = json.dumps(blade_results, indent=2, sort_keys=False)\n",
    "print(pretty_results)"
   ]
  },
  {
   "cell_type": "code",
   "execution_count": 6,
   "metadata": {},
   "outputs": [
    {
     "data": {
      "text/plain": [
       "str"
      ]
     },
     "execution_count": 6,
     "metadata": {},
     "output_type": "execute_result"
    }
   ],
   "source": [
    "type(pretty_results)"
   ]
  },
  {
   "cell_type": "code",
   "execution_count": 7,
   "metadata": {},
   "outputs": [
    {
     "name": "stdout",
     "output_type": "stream",
     "text": [
      "imdbID : tt0083658\n",
      "imdbID : tt1856101\n",
      "imdbID : tt0120611\n",
      "imdbID : tt0187738\n",
      "imdbID : tt0359013\n",
      "imdbID : tt0117666\n",
      "imdbID : tt3672840\n",
      "imdbID : tt5084170\n",
      "imdbID : tt0475723\n",
      "imdbID : tt7428594\n"
     ]
    }
   ],
   "source": [
    "#Parse the JSON string to an internal Python object\n",
    "pretty_results = json.loads(pretty_results)\n",
    "\n",
    "for each in pretty_results:\n",
    "    print(\"imdbID :\", each[\"imdbID\"])"
   ]
  },
  {
   "cell_type": "code",
   "execution_count": 8,
   "metadata": {},
   "outputs": [],
   "source": [
    "# Creating the list of 10 movies\n",
    "movies = [\"Titanic\", \n",
    "          \"Life is Beautiful\", \n",
    "          \"The Shawshank Redemption\", \n",
    "          \"Inception\", \n",
    "          \"Avatar\", \n",
    "          \"Jurassic Park\", \n",
    "          \"Wall-E\", \n",
    "          \"Joker\", \n",
    "          \"Avengers\", \n",
    "          \"2012\"]"
   ]
  },
  {
   "cell_type": "code",
   "execution_count": 9,
   "metadata": {},
   "outputs": [],
   "source": [
    "top_10_movies = pd.DataFrame(columns = [\"Movie Title\", \"imdbID\"])\n",
    "\n",
    "# Loops over the movies list\n",
    "for movie in movies:\n",
    "    # Concatenates movie with the url to create the url for each movie\n",
    "    url = \"http://www.omdbapi.com/?apikey=\" + api_key + \"&s=\" + movie\n",
    "    # Requests the website's access to the server and stores the response\n",
    "    response = requests.get(url, params = parameter)\n",
    "    # Parsing the response\n",
    "    movie_choice = json.loads(response.text)\n",
    "    # Concatenates the search results under top_10_movies list\n",
    "    top_10_movies = top_10_movies.append({\"Movie Title\" : movie_choice[\"Search\"][0][\"Title\"], \n",
    "                                          \"imdbID\" : movie_choice[\"Search\"][0][\"imdbID\"]}, ignore_index = True)"
   ]
  },
  {
   "cell_type": "code",
   "execution_count": 10,
   "metadata": {},
   "outputs": [],
   "source": [
    "movie_details = pd.DataFrame(columns = [\"Title\", \"Year\", \"Genre\", \"Director\", \"IMDB_Rating\", \"Rotten_tomatoes\", \n",
    "                                        \"Metacritic\", \"Plot\", \"Box_office\"])\n",
    "movie_ids = top_10_movies[\"imdbID\"]\n",
    "\n",
    "# Loops over the movies id's\n",
    "for movie_id in movie_ids:\n",
    "    # Concatenate id's with the url to create the url for each movie id\n",
    "    url = \"http://www.omdbapi.com/?apikey=\" + api_key + \"&i=\" + movie_id\n",
    "    # Request the website's access to the server and store the response\n",
    "    response = requests.get(url, params = parameter)\n",
    "    # Parse the response\n",
    "    movie_choice = json.loads(response.text)\n",
    "    # Pull out required information for each required feature and store it in a dataframe\n",
    "    movie_details = movie_details.append({\"Title\" : movie_choice[\"Title\"], \"Year\" : movie_choice[\"Year\"],\n",
    "                                          \"Genre\" : movie_choice[\"Genre\"], \"Director\" : movie_choice[\"Director\"],\n",
    "                                          \"IMDB_Rating\" : movie_choice[\"imdbRating\"], \n",
    "                                          \"Rotten_tomatoes\" : movie_choice[\"Ratings\"][1][\"Value\"],\n",
    "                                          \"Metacritic\" : movie_choice[\"Ratings\"][2][\"Value\"],\n",
    "                                          \"Plot\" : movie_choice[\"Plot\"], \"Box_office\" : movie_choice[\"BoxOffice\"]}, \n",
    "                                          ignore_index=True)    "
   ]
  },
  {
   "cell_type": "code",
   "execution_count": 11,
   "metadata": {},
   "outputs": [
    {
     "data": {
      "text/html": [
       "<div>\n",
       "<style scoped>\n",
       "    .dataframe tbody tr th:only-of-type {\n",
       "        vertical-align: middle;\n",
       "    }\n",
       "\n",
       "    .dataframe tbody tr th {\n",
       "        vertical-align: top;\n",
       "    }\n",
       "\n",
       "    .dataframe thead th {\n",
       "        text-align: right;\n",
       "    }\n",
       "</style>\n",
       "<table border=\"1\" class=\"dataframe\">\n",
       "  <thead>\n",
       "    <tr style=\"text-align: right;\">\n",
       "      <th></th>\n",
       "      <th>Title</th>\n",
       "      <th>Year</th>\n",
       "      <th>Genre</th>\n",
       "      <th>Director</th>\n",
       "      <th>IMDB_Rating</th>\n",
       "      <th>Rotten_tomatoes</th>\n",
       "      <th>Metacritic</th>\n",
       "      <th>Plot</th>\n",
       "      <th>Box_office</th>\n",
       "    </tr>\n",
       "  </thead>\n",
       "  <tbody>\n",
       "    <tr>\n",
       "      <th>0</th>\n",
       "      <td>Titanic</td>\n",
       "      <td>1997</td>\n",
       "      <td>Drama, Romance</td>\n",
       "      <td>James Cameron</td>\n",
       "      <td>7.8</td>\n",
       "      <td>89%</td>\n",
       "      <td>75/100</td>\n",
       "      <td>A seventeen-year-old aristocrat falls in love ...</td>\n",
       "      <td>N/A</td>\n",
       "    </tr>\n",
       "    <tr>\n",
       "      <th>1</th>\n",
       "      <td>Life Is Beautiful</td>\n",
       "      <td>1997</td>\n",
       "      <td>Comedy, Drama, Romance, War</td>\n",
       "      <td>Roberto Benigni</td>\n",
       "      <td>8.6</td>\n",
       "      <td>80%</td>\n",
       "      <td>59/100</td>\n",
       "      <td>When an open-minded Jewish librarian and his s...</td>\n",
       "      <td>N/A</td>\n",
       "    </tr>\n",
       "    <tr>\n",
       "      <th>2</th>\n",
       "      <td>The Shawshank Redemption</td>\n",
       "      <td>1994</td>\n",
       "      <td>Drama</td>\n",
       "      <td>Frank Darabont</td>\n",
       "      <td>9.3</td>\n",
       "      <td>90%</td>\n",
       "      <td>80/100</td>\n",
       "      <td>Two imprisoned men bond over a number of years...</td>\n",
       "      <td>N/A</td>\n",
       "    </tr>\n",
       "    <tr>\n",
       "      <th>3</th>\n",
       "      <td>Inception</td>\n",
       "      <td>2010</td>\n",
       "      <td>Action, Adventure, Sci-Fi, Thriller</td>\n",
       "      <td>Christopher Nolan</td>\n",
       "      <td>8.8</td>\n",
       "      <td>87%</td>\n",
       "      <td>74/100</td>\n",
       "      <td>A thief who steals corporate secrets through t...</td>\n",
       "      <td>$292,568,851</td>\n",
       "    </tr>\n",
       "    <tr>\n",
       "      <th>4</th>\n",
       "      <td>Avatar</td>\n",
       "      <td>2009</td>\n",
       "      <td>Action, Adventure, Fantasy, Sci-Fi</td>\n",
       "      <td>James Cameron</td>\n",
       "      <td>7.8</td>\n",
       "      <td>82%</td>\n",
       "      <td>83/100</td>\n",
       "      <td>A paraplegic Marine dispatched to the moon Pan...</td>\n",
       "      <td>$749,700,000</td>\n",
       "    </tr>\n",
       "    <tr>\n",
       "      <th>5</th>\n",
       "      <td>Jurassic Park</td>\n",
       "      <td>1993</td>\n",
       "      <td>Action, Adventure, Sci-Fi, Thriller</td>\n",
       "      <td>Steven Spielberg</td>\n",
       "      <td>8.1</td>\n",
       "      <td>91%</td>\n",
       "      <td>68/100</td>\n",
       "      <td>A pragmatic Paleontologist visiting an almost ...</td>\n",
       "      <td>$45,299,680</td>\n",
       "    </tr>\n",
       "    <tr>\n",
       "      <th>6</th>\n",
       "      <td>WALL·E</td>\n",
       "      <td>2008</td>\n",
       "      <td>Animation, Adventure, Family, Sci-Fi</td>\n",
       "      <td>Andrew Stanton</td>\n",
       "      <td>8.4</td>\n",
       "      <td>95%</td>\n",
       "      <td>95/100</td>\n",
       "      <td>In the distant future, a small waste-collectin...</td>\n",
       "      <td>$223,749,872</td>\n",
       "    </tr>\n",
       "    <tr>\n",
       "      <th>7</th>\n",
       "      <td>Joker</td>\n",
       "      <td>2019</td>\n",
       "      <td>Crime, Drama, Thriller</td>\n",
       "      <td>Todd Phillips</td>\n",
       "      <td>8.6</td>\n",
       "      <td>68%</td>\n",
       "      <td>59/100</td>\n",
       "      <td>In Gotham City, mentally troubled comedian Art...</td>\n",
       "      <td>N/A</td>\n",
       "    </tr>\n",
       "    <tr>\n",
       "      <th>8</th>\n",
       "      <td>The Avengers</td>\n",
       "      <td>2012</td>\n",
       "      <td>Action, Adventure, Sci-Fi</td>\n",
       "      <td>Joss Whedon</td>\n",
       "      <td>8.0</td>\n",
       "      <td>92%</td>\n",
       "      <td>69/100</td>\n",
       "      <td>Earth's mightiest heroes must come together an...</td>\n",
       "      <td>$623,279,547</td>\n",
       "    </tr>\n",
       "    <tr>\n",
       "      <th>9</th>\n",
       "      <td>2012</td>\n",
       "      <td>2009</td>\n",
       "      <td>Action, Adventure, Sci-Fi</td>\n",
       "      <td>Roland Emmerich</td>\n",
       "      <td>5.8</td>\n",
       "      <td>39%</td>\n",
       "      <td>49/100</td>\n",
       "      <td>A frustrated writer struggles to keep his fami...</td>\n",
       "      <td>$166,112,167</td>\n",
       "    </tr>\n",
       "  </tbody>\n",
       "</table>\n",
       "</div>"
      ],
      "text/plain": [
       "                      Title  Year                                 Genre  \\\n",
       "0                   Titanic  1997                        Drama, Romance   \n",
       "1         Life Is Beautiful  1997           Comedy, Drama, Romance, War   \n",
       "2  The Shawshank Redemption  1994                                 Drama   \n",
       "3                 Inception  2010   Action, Adventure, Sci-Fi, Thriller   \n",
       "4                    Avatar  2009    Action, Adventure, Fantasy, Sci-Fi   \n",
       "5             Jurassic Park  1993   Action, Adventure, Sci-Fi, Thriller   \n",
       "6                    WALL·E  2008  Animation, Adventure, Family, Sci-Fi   \n",
       "7                     Joker  2019                Crime, Drama, Thriller   \n",
       "8              The Avengers  2012             Action, Adventure, Sci-Fi   \n",
       "9                      2012  2009             Action, Adventure, Sci-Fi   \n",
       "\n",
       "            Director IMDB_Rating Rotten_tomatoes Metacritic  \\\n",
       "0      James Cameron         7.8             89%     75/100   \n",
       "1    Roberto Benigni         8.6             80%     59/100   \n",
       "2     Frank Darabont         9.3             90%     80/100   \n",
       "3  Christopher Nolan         8.8             87%     74/100   \n",
       "4      James Cameron         7.8             82%     83/100   \n",
       "5   Steven Spielberg         8.1             91%     68/100   \n",
       "6     Andrew Stanton         8.4             95%     95/100   \n",
       "7      Todd Phillips         8.6             68%     59/100   \n",
       "8        Joss Whedon         8.0             92%     69/100   \n",
       "9    Roland Emmerich         5.8             39%     49/100   \n",
       "\n",
       "                                                Plot    Box_office  \n",
       "0  A seventeen-year-old aristocrat falls in love ...           N/A  \n",
       "1  When an open-minded Jewish librarian and his s...           N/A  \n",
       "2  Two imprisoned men bond over a number of years...           N/A  \n",
       "3  A thief who steals corporate secrets through t...  $292,568,851  \n",
       "4  A paraplegic Marine dispatched to the moon Pan...  $749,700,000  \n",
       "5  A pragmatic Paleontologist visiting an almost ...   $45,299,680  \n",
       "6  In the distant future, a small waste-collectin...  $223,749,872  \n",
       "7  In Gotham City, mentally troubled comedian Art...           N/A  \n",
       "8  Earth's mightiest heroes must come together an...  $623,279,547  \n",
       "9  A frustrated writer struggles to keep his fami...  $166,112,167  "
      ]
     },
     "execution_count": 11,
     "metadata": {},
     "output_type": "execute_result"
    }
   ],
   "source": [
    "movie_details"
   ]
  },
  {
   "cell_type": "code",
   "execution_count": 12,
   "metadata": {},
   "outputs": [],
   "source": [
    "# Standardizing the imdb rating (floating point on 0 scale to integers on 100 scale)\n",
    "movie_details[\"IMDB_Rating\"] = movie_details[\"IMDB_Rating\"].astype(float)\n",
    "movie_details[\"IMDB_Rating\"] = (movie_details[\"IMDB_Rating\"] * 10).astype(int)"
   ]
  },
  {
   "cell_type": "code",
   "execution_count": 13,
   "metadata": {},
   "outputs": [],
   "source": [
    "# Standardizing rotten tomatoes ratings (integers representing percentages)\n",
    "# Remove \"%\" and convert the datatype to integer\n",
    "movie_details[\"Rotten_tomatoes\"] = (movie_details[\"Rotten_tomatoes\"].str.replace(r'%', '')).astype(int)"
   ]
  },
  {
   "cell_type": "code",
   "execution_count": 14,
   "metadata": {},
   "outputs": [],
   "source": [
    "# Standardizing metacritic ratings (integers representing percentages)\n",
    "# Remove \"/100\" and convert the datatype to integer\n",
    "movie_details[\"Metacritic\"] = (movie_details[\"Metacritic\"].str.replace(r'/100', '')).astype(int)"
   ]
  },
  {
   "cell_type": "code",
   "execution_count": 15,
   "metadata": {},
   "outputs": [],
   "source": [
    "# Converting year into integer\n",
    "movie_details[\"Year\"] = movie_details[\"Year\"].astype(int)\n",
    "# Replacing N/A with empty string\n",
    "movie_details[\"Box_office\"] = movie_details[\"Box_office\"].str.replace(\"N/A\",\"\")"
   ]
  },
  {
   "cell_type": "markdown",
   "metadata": {},
   "source": [
    "# Part 2"
   ]
  },
  {
   "cell_type": "code",
   "execution_count": 16,
   "metadata": {},
   "outputs": [
    {
     "data": {
      "text/plain": [
       "<sqlalchemy.engine.result.ResultProxy at 0x2a8c8fc1198>"
      ]
     },
     "execution_count": 16,
     "metadata": {},
     "output_type": "execute_result"
    }
   ],
   "source": [
    "# using create_engine function from sqlalchemy to connect to the mysql\n",
    "user=\"root\"\n",
    "passwd = \"root\"\n",
    "host = \"localhost\"\n",
    "port = \"3306\"\n",
    "database_name = \"movie\"\n",
    "mysql_engine = create_engine('mysql+mysqlconnector://{0}:{1}@{2}:{3}/'.format(user, passwd, host, port) + \"?use_pure=True\")\n",
    "# creates the database named movie\n",
    "mysql_engine.execute(\"CREATE DATABASE IF NOT EXISTS {0} \".format(database_name))"
   ]
  },
  {
   "cell_type": "code",
   "execution_count": 17,
   "metadata": {},
   "outputs": [],
   "source": [
    "# creates the connection to the movie database\n",
    "mysql_engine = create_engine('mysql+mysqlconnector://{0}:{1}@{2}:{3}/'.format(user, passwd, host, port) + database_name + \"?use_pure=True\")"
   ]
  },
  {
   "cell_type": "markdown",
   "metadata": {},
   "source": [
    "# Part 3"
   ]
  },
  {
   "cell_type": "code",
   "execution_count": 18,
   "metadata": {},
   "outputs": [
    {
     "data": {
      "text/plain": [
       "<sqlalchemy.engine.result.ResultProxy at 0x2a8c8dcf0b8>"
      ]
     },
     "execution_count": 18,
     "metadata": {},
     "output_type": "execute_result"
    }
   ],
   "source": [
    "# Create a table omdb with columns and assign them appropriate data types\n",
    "table_name = \"omdb\"\n",
    "mysql_engine.execute(\"CREATE TABLE \" + table_name +\" (title VARCHAR(200), year INT, genre VARCHAR(40), director VARCHAR(70),\"+\n",
    "                 \"imdb_rating INT, rotten_tomatoes INT, metacritic INT, plot VARCHAR(300), box_office VARCHAR(30))\")"
   ]
  },
  {
   "cell_type": "code",
   "execution_count": 19,
   "metadata": {},
   "outputs": [],
   "source": [
    "# Using the mysql engine, writing the dataframe into the mysql table\n",
    "movie_details.to_sql(table_name, con = mysql_engine, if_exists = 'append', chunksize = 100, index = False)\n",
    "mysql_engine.dispose()"
   ]
  }
 ],
 "metadata": {
  "kernelspec": {
   "display_name": "Python 3",
   "language": "python",
   "name": "python3"
  },
  "language_info": {
   "codemirror_mode": {
    "name": "ipython",
    "version": 3
   },
   "file_extension": ".py",
   "mimetype": "text/x-python",
   "name": "python",
   "nbconvert_exporter": "python",
   "pygments_lexer": "ipython3",
   "version": "3.7.3"
  },
  "toc": {
   "base_numbering": 1,
   "nav_menu": {},
   "number_sections": true,
   "sideBar": true,
   "skip_h1_title": false,
   "title_cell": "Table of Contents",
   "title_sidebar": "Contents",
   "toc_cell": false,
   "toc_position": {},
   "toc_section_display": true,
   "toc_window_display": false
  },
  "varInspector": {
   "cols": {
    "lenName": 16,
    "lenType": 16,
    "lenVar": 40
   },
   "kernels_config": {
    "python": {
     "delete_cmd_postfix": "",
     "delete_cmd_prefix": "del ",
     "library": "var_list.py",
     "varRefreshCmd": "print(var_dic_list())"
    },
    "r": {
     "delete_cmd_postfix": ") ",
     "delete_cmd_prefix": "rm(",
     "library": "var_list.r",
     "varRefreshCmd": "cat(var_dic_list()) "
    }
   },
   "types_to_exclude": [
    "module",
    "function",
    "builtin_function_or_method",
    "instance",
    "_Feature"
   ],
   "window_display": false
  }
 },
 "nbformat": 4,
 "nbformat_minor": 2
}
